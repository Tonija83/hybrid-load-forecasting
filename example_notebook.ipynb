{
 "cells": [
  {
   "cell_type": "markdown",
   "metadata": {},
   "source": [
    "# Beispiel: Daten laden und LSTM trainieren"
   ]
  },
  {
   "cell_type": "code",
   "metadata": {},
   "source": [
    "import pandas as pd\n",
    "import numpy as np\n",
    "from src.lstm_model import create_lstm_model, prepare_data\n",
    "\n",
    "# CSV laden\n",
    "df = pd.read_csv('../data/example_data.csv', parse_dates=['timestamp'])\n",
    "series = df['value'].values\n",
    "\n",
    "# Daten vorbereiten\n",
    "n_steps = 3\n",
    "X, y = prepare_data(series, n_steps)\n",
    "\n",
    "# Modell trainieren\n",
    "model = create_lstm_model((n_steps, 1))\n",
    "model.fit(X, y, epochs=10)\n",
    "\n",
    "# Beispielvorhersage\n",
    "x_input = series[-n_steps:].reshape((1, n_steps, 1))\n",
    "yhat = model.predict(x_input, verbose=0)\n",
    "print(f\"Vorhersage für Input {x_input.flatten()}: {yhat.flatten()[0]:.2f}\")"
   ],
   "execution_count": null,
   "outputs": []
  }
 ],
 "metadata": {
  "kernelspec": {
   "display_name": "Python 3",
   "language": "python",
   "name": "python3"
  },
  "language_info": {
   "name": "python",
   "version": "3.10"
  }
 },
 "nbformat": 4,
 "nbformat_minor": 5
}