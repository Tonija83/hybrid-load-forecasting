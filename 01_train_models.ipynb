import pandas as pd
import numpy as np
import matplotlib.pyplot as plt
from sklearn.model_selection import train_test_split
from sklearn.metrics import mean_squared_error

from lstm_model import build_lstm_model
from rf_model import build_rf_model
from hybrid_model import hybrid_predict

import tensorflow as tf

# Beispielhaft: lade CSV aus dem data-Ordner
df = pd.read_csv('data/load_data.csv')  # Passe Dateiname ggf. an
print(df.head())

# Beispiel: Verwende nur eine Zeitreihe-Spalte
data = df['load'].values
window_size = 24

X_lstm = []
y_lstm = []
for i in range(len(data) - window_size):
    X_lstm.append(data[i:i+window_size])
    y_lstm.append(data[i+window_size])

X_lstm = np.array(X_lstm)
y_lstm = np.array(y_lstm)

X_lstm = X_lstm.reshape((X_lstm.shape[0], X_lstm.shape[1], 1))

# Aufteilen
X_train_lstm, X_test_lstm, y_train_lstm, y_test_lstm = train_test_split(X_lstm, y_lstm, test_size=0.2, random_state=42)

model_lstm = build_lstm_model(input_shape=(window_size, 1))
history = model_lstm.fit(X_train_lstm, y_train_lstm, epochs=10, batch_size=32, validation_split=0.1)

# Vorhersage
y_pred_lstm = model_lstm.predict(X_test_lstm).flatten()

# Für RF nur flache Inputs (kein 3D)
X_rf = X_lstm.reshape((X_lstm.shape[0], X_lstm.shape[1]))
X_train_rf, X_test_rf, y_train_rf, y_test_rf = train_test_split(X_rf, y_lstm, test_size=0.2, random_state=42)

model_rf = build_rf_model()
model_rf.fit(X_train_rf, y_train_rf)

y_pred_rf = model_rf.predict(X_test_rf)

y_pred_hybrid = hybrid_predict(y_pred_lstm, y_pred_rf, alpha=0.5)

#Evaluation
rmse_lstm = np.sqrt(mean_squared_error(y_test_lstm, y_pred_lstm))
rmse_rf = np.sqrt(mean_squared_error(y_test_rf, y_pred_rf))
rmse_hybrid = np.sqrt(mean_squared_error(y_test_rf, y_pred_hybrid))

print(f"LSTM RMSE: {rmse_lstm:.2f}")
print(f"RF RMSE: {rmse_rf:.2f}")
print(f"Hybrid RMSE: {rmse_hybrid:.2f}")

#Visualisierung
plt.figure(figsize=(12, 6))
plt.plot(y_test_rf[:100], label='True', linewidth=2)
plt.plot(y_pred_lstm[:100], label='LSTM')
plt.plot(y_pred_rf[:100], label='RF')
plt.plot(y_pred_hybrid[:100], label='Hybrid', linestyle='--')
plt.legend()
plt.title("Vorhersagevergleich")
plt.show()
